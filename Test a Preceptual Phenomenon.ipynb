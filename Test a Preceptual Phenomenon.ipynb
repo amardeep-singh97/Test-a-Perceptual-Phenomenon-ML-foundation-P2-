{
 "cells": [
  {
   "cell_type": "code",
   "execution_count": 57,
   "metadata": {},
   "outputs": [],
   "source": [
    "import csv\n",
    "import pandas\n",
    "from pprint import pprint\n",
    "import matplotlib.pyplot as plt\n",
    "%matplotlib inline \n",
    "import numpy as np\n",
    "from math import *"
   ]
  },
  {
   "cell_type": "code",
   "execution_count": 23,
   "metadata": {},
   "outputs": [
    {
     "name": "stdout",
     "output_type": "stream",
     "text": [
      "OrderedDict([('Congruent', '12.079'), ('Incongruent', '19.278')])\n",
      "OrderedDict([('Congruent', '16.791'), ('Incongruent', '18.741')])\n",
      "OrderedDict([('Congruent', '9.564'), ('Incongruent', '21.214')])\n",
      "OrderedDict([('Congruent', '8.630'), ('Incongruent', '15.687')])\n",
      "OrderedDict([('Congruent', '14.669'), ('Incongruent', '22.803')])\n",
      "OrderedDict([('Congruent', '12.238'), ('Incongruent', '20.878')])\n",
      "OrderedDict([('Congruent', '14.692'), ('Incongruent', '24.572')])\n",
      "OrderedDict([('Congruent', '8.987'), ('Incongruent', '17.394')])\n",
      "OrderedDict([('Congruent', '9.401'), ('Incongruent', '20.762')])\n",
      "OrderedDict([('Congruent', '14.480'), ('Incongruent', '26.282')])\n",
      "OrderedDict([('Congruent', '22.328'), ('Incongruent', '24.524')])\n",
      "OrderedDict([('Congruent', '15.298'), ('Incongruent', '18.644')])\n",
      "OrderedDict([('Congruent', '15.073'), ('Incongruent', '17.510')])\n",
      "OrderedDict([('Congruent', '16.929'), ('Incongruent', '20.330')])\n",
      "OrderedDict([('Congruent', '18.200'), ('Incongruent', '35.255')])\n",
      "OrderedDict([('Congruent', '12.130'), ('Incongruent', '22.158')])\n",
      "OrderedDict([('Congruent', '18.495'), ('Incongruent', '25.139')])\n",
      "OrderedDict([('Congruent', '10.639'), ('Incongruent', '20.429')])\n",
      "OrderedDict([('Congruent', '11.344'), ('Incongruent', '17.425')])\n",
      "OrderedDict([('Congruent', '12.369'), ('Incongruent', '34.288')])\n",
      "OrderedDict([('Congruent', '12.944'), ('Incongruent', '23.894')])\n",
      "OrderedDict([('Congruent', '14.233'), ('Incongruent', '17.960')])\n",
      "OrderedDict([('Congruent', '19.710'), ('Incongruent', '22.058')])\n",
      "OrderedDict([('Congruent', '16.004'), ('Incongruent', '21.157')])\n"
     ]
    }
   ],
   "source": [
    "data_path = \"/Users/user/stroopdata.csv\"\n",
    "with open (data_path,'r') as f:\n",
    "    data=csv.DictReader(f)\n",
    "    for value in data:\n",
    "        print(value)"
   ]
  },
  {
   "cell_type": "markdown",
   "metadata": {},
   "source": [
    "# 1. What is our independent variable? What is our dependent variable?"
   ]
  },
  {
   "cell_type": "markdown",
   "metadata": {},
   "source": [
    "Independent Variable - words (Congruent or Incongruent).\n",
    "\n",
    "Dependent Variable - Amount of Time someone takes to recognize the color."
   ]
  },
  {
   "cell_type": "markdown",
   "metadata": {},
   "source": [
    "# 2.What is an appropriate set of hypotheses for this task? What kind of statistical test do you expect to perform? Justify your choices."
   ]
  },
  {
   "cell_type": "markdown",
   "metadata": {},
   "source": [
    "**Null Hypothesis**: (  μi - μc = 0 ) There is **no** significant difference in the population average response time in viewing the congruent words vs viewing the incongruent words.\n",
    "\n",
    "**Alternative Hypothesis**: ( μi - μc ≠ 0 ) There is a significant difference, positive or negative, in the population average response times.\n",
    "\n",
    "For this sample t-Test is the appropriate statistical test as the same subjects are assigned two different conditions. We are measuring the same variable after some intervention in old data. In addition, we don't have any population parameters provided (so a z-test would not be appropriate here)."
   ]
  },
  {
   "cell_type": "markdown",
   "metadata": {},
   "source": [
    "# 3. Report some descriptive statistics regarding this dataset. Include at least one measure of central tendency and at least one measure of variability."
   ]
  },
  {
   "cell_type": "code",
   "execution_count": 25,
   "metadata": {
    "collapsed": true
   },
   "outputs": [],
   "source": [
    "df = pandas.read_csv(\"/Users/user/stroopdata.csv\")\n",
    "c = df['Congruent']\n",
    "i = df['Incongruent']"
   ]
  },
  {
   "cell_type": "code",
   "execution_count": 33,
   "metadata": {},
   "outputs": [
    {
     "name": "stdout",
     "output_type": "stream",
     "text": [
      "Mean of Congruent\n"
     ]
    },
    {
     "data": {
      "text/plain": [
       "14.0511"
      ]
     },
     "execution_count": 33,
     "metadata": {},
     "output_type": "execute_result"
    }
   ],
   "source": [
    "c_mean = c.mean()\n",
    "print(\"Mean of Congruent\")\n",
    "round(c_mean,4)\n",
    "#print(c_mean)"
   ]
  },
  {
   "cell_type": "code",
   "execution_count": 34,
   "metadata": {},
   "outputs": [
    {
     "name": "stdout",
     "output_type": "stream",
     "text": [
      "Mean of Incongruent\n"
     ]
    },
    {
     "data": {
      "text/plain": [
       "22.0159"
      ]
     },
     "execution_count": 34,
     "metadata": {},
     "output_type": "execute_result"
    }
   ],
   "source": [
    "i_mean=i.mean()\n",
    "print(\"Mean of Incongruent\")\n",
    "round(i_mean,4)"
   ]
  },
  {
   "cell_type": "code",
   "execution_count": 36,
   "metadata": {},
   "outputs": [
    {
     "name": "stdout",
     "output_type": "stream",
     "text": [
      "Standard Deviation of Congruent\n"
     ]
    },
    {
     "data": {
      "text/plain": [
       "3.5594"
      ]
     },
     "execution_count": 36,
     "metadata": {},
     "output_type": "execute_result"
    }
   ],
   "source": [
    "c_sd=c.std()\n",
    "print(\"Standard Deviation of Congruent\")\n",
    "round(c_sd,4)"
   ]
  },
  {
   "cell_type": "code",
   "execution_count": 37,
   "metadata": {},
   "outputs": [
    {
     "name": "stdout",
     "output_type": "stream",
     "text": [
      "Standard Deviation of Incongruent\n"
     ]
    },
    {
     "data": {
      "text/plain": [
       "4.7971"
      ]
     },
     "execution_count": 37,
     "metadata": {},
     "output_type": "execute_result"
    }
   ],
   "source": [
    "i_sd=i.std()\n",
    "print(\"Standard Deviation of Incongruent\")\n",
    "round(i_sd,4)"
   ]
  },
  {
   "cell_type": "markdown",
   "metadata": {},
   "source": [
    "Mean of congruent and incongruent is Central tendency and Standard Deviation of congruent and incongruent is Variability"
   ]
  },
  {
   "cell_type": "markdown",
   "metadata": {},
   "source": [
    "# 4. Provide one or two visualizations that show the distribution of the sample data. Write one or two sentences noting what you observe about the plot or plots."
   ]
  },
  {
   "cell_type": "code",
   "execution_count": 55,
   "metadata": {},
   "outputs": [
    {
     "data": {
      "image/png": "[encoded data removed]",
      "text/plain": [
       "<matplotlib.figure.Figure at 0x15ce872f160>"
      ]
     },
     "metadata": {},
     "output_type": "display_data"
    }
   ],
   "source": [
    "def createbars(data):\n",
    "    sub=[]\n",
    "    i=1\n",
    "    with open(data,'r') as f_in:\n",
    "        reader=csv.DictReader(f_in)\n",
    "        df = pandas.read_csv(f_in)\n",
    "        for row in reader:\n",
    "            sub.append(i)\n",
    "            i=i+1\n",
    "        y_pos = np.arange(len(df['Congruent']))\n",
    "        plt.bar(y_pos,df['Congruent'],align='center',alpha=0.5)\n",
    "        plt.xticks(y_pos,sub)\n",
    "        plt.ylabel('Time')\n",
    "        plt.title('Congruent Response Time')\n",
    "        plt.show()\n",
    "datapath=\"/Users/user/stroopdata.csv\"\n",
    "createbars(datapath)"
   ]
  },
  {
   "cell_type": "code",
   "execution_count": 56,
   "metadata": {},
   "outputs": [
    {
     "data": {
      "image/png": "[encoded data removed]",
      "text/plain": [
       "<matplotlib.figure.Figure at 0x15ce853d6d8>"
      ]
     },
     "metadata": {},
     "output_type": "display_data"
    }
   ],
   "source": [
    "def createbars(data):\n",
    "    sub=[]\n",
    "    i=1\n",
    "    with open(data,'r') as f_in:\n",
    "        reader=csv.DictReader(f_in)\n",
    "        df = pandas.read_csv(f_in)\n",
    "        for row in reader:\n",
    "            sub.append(i)\n",
    "            i=i+1\n",
    "        y_pos = np.arange(len(df['Incongruent']))\n",
    "        plt.bar(y_pos,df['Incongruent'],align='center',alpha=0.5)\n",
    "        plt.xticks(y_pos,sub)\n",
    "        plt.ylabel('Time')\n",
    "        plt.title('Incongruent Response Time')\n",
    "        plt.show()\n",
    "datapath=\"/Users/user/stroopdata.csv\"\n",
    "createbars(datapath)"
   ]
  },
  {
   "cell_type": "markdown",
   "metadata": {},
   "source": [
    "There are 24 response time in each experiment but by looking at the table we can see that response time of Incongruent experiment is more as compared to Congruent Experiment"
   ]
  },
  {
   "cell_type": "markdown",
   "metadata": {},
   "source": [
    "# 5. Now, perform the statistical test and report your results. What is your confidence level and your critical statistic value? Do you reject the null hypothesis or fail to reject it? Come to a conclusion in terms of the experiment task. Did the results match up with your expectations?"
   ]
  },
  {
   "cell_type": "markdown",
   "metadata": {},
   "source": [
    "Confidence Level = 95%  \n",
    "t-critical value (2-sided test) -> from [t-table](https://s3.amazonaws.com/udacity-hosted-downloads/t-table.jpg)  \n",
    "Degree of freedom = n - 1 = 23  \n",
    "t critical value =  +- 2.069"
   ]
  },
  {
   "cell_type": "code",
   "execution_count": 67,
   "metadata": {},
   "outputs": [
    {
     "name": "stdout",
     "output_type": "stream",
     "text": [
      "24\n"
     ]
    },
    {
     "data": {
      "text/plain": [
       "7.9648"
      ]
     },
     "execution_count": 67,
     "metadata": {},
     "output_type": "execute_result"
    }
   ],
   "source": [
    "n = len(df)\n",
    "print(n)\n",
    "PE = i_mean - c_mean\n",
    "round(PE,4)"
   ]
  },
  {
   "cell_type": "code",
   "execution_count": 68,
   "metadata": {},
   "outputs": [
    {
     "data": {
      "text/plain": [
       "4.8648"
      ]
     },
     "execution_count": 68,
     "metadata": {},
     "output_type": "execute_result"
    }
   ],
   "source": [
    "df['D'] = df['Incongruent'] - df['Congruent']\n",
    "DFM = df['D'] - df['D'].mean()\n",
    "df['SQD'] = DFM*DFM\n",
    "SSD = df['SQD'].sum()\n",
    "v = SSD/(n-1)\n",
    "s = sqrt(v)\n",
    "round(s,4)"
   ]
  },
  {
   "cell_type": "code",
   "execution_count": 69,
   "metadata": {},
   "outputs": [
    {
     "data": {
      "text/plain": [
       "8.0207"
      ]
     },
     "execution_count": 69,
     "metadata": {},
     "output_type": "execute_result"
    }
   ],
   "source": [
    "#t value would be\n",
    "t=PE*sqrt(n)/s\n",
    "round(t,4)"
   ]
  },
  {
   "cell_type": "markdown",
   "metadata": {},
   "source": [
    "T-statistics is way bigger then T-critical value so we Reject the **Null Hypothesis**"
   ]
  },
  {
   "cell_type": "markdown",
   "metadata": {},
   "source": [
    "# Conclusion"
   ]
  },
  {
   "cell_type": "markdown",
   "metadata": {},
   "source": [
    "We reject the Null Hypothesis which states that there is no significant differences between the population average completion time for the two different conditions (Congruent & Incongruent). In theory, if we were able to calculate the average difference of every single person person who took this pair of tests (the population) we expect there would be a significantly slower or significantly faster time in either the the incongruent or congruent condition. These are the results I expected since my own anecdotal experience showed that the second condition took me longer to complete. "
   ]
  },
  {
   "cell_type": "code",
   "execution_count": null,
   "metadata": {
    "collapsed": true
   },
   "outputs": [],
   "source": []
  }
 ],
 "metadata": {
  "kernelspec": {
   "display_name": "Python 3",
   "language": "python",
   "name": "python3"
  },
  "language_info": {
   "codemirror_mode": {
    "name": "ipython",
    "version": 3
   },
   "file_extension": ".py",
   "mimetype": "text/x-python",
   "name": "python",
   "nbconvert_exporter": "python",
   "pygments_lexer": "ipython3",
   "version": "3.6.3"
  }
 },
 "nbformat": 4,
 "nbformat_minor": 2
}
